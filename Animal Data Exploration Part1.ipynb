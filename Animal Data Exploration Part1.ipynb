{
 "cells": [
  {
   "cell_type": "markdown",
   "metadata": {},
   "source": [
    "# Analysis and Classification of Animal  Data"
   ]
  },
  {
   "cell_type": "markdown",
   "metadata": {},
   "source": [
    "The idea of this notebook is to understand Animal data from 'AnAge Database of Animal Ageing and Longevity' (url:'http://genomics.senescence.info/species/') and try to Classify 'Order' of the animals based on there Numerical Characterstics. The project consists of two notebooks, first explores the overall data and tries to find a baseline model for classification. The second notebooks deals with each features in detail trying to fill the missing data and Tune the hyperparametrs."
   ]
  },
  {
   "cell_type": "markdown",
   "metadata": {},
   "source": [
    "Zoologists classify animals into different catagories like 'Kingdom', 'Phylum', 'Class', 'Order' etc. In the given dataset the Classifiactions are already done, for sake of learning I will remove the Order of animals of 'Class: Mammalia' and try to predict it using Data Science techniques.\n",
    "\n",
    "Let's start exploring our data.\n"
   ]
  },
  {
   "cell_type": "code",
   "execution_count": 1,
   "metadata": {},
   "outputs": [],
   "source": [
    "# Importing Packages\n",
    "import pandas as pd\n",
    "import numpy as np\n",
    "import seaborn as sns\n",
    "import matplotlib.pyplot as plt"
   ]
  },
  {
   "cell_type": "code",
   "execution_count": 2,
   "metadata": {},
   "outputs": [],
   "source": [
    "# Loading Data into dataframe\n",
    "df=pd.read_table('C:\\\\python\\\\study\\\\dataset\\\\anage_data.txt')"
   ]
  },
  {
   "cell_type": "code",
   "execution_count": 3,
   "metadata": {},
   "outputs": [
    {
     "data": {
      "text/html": [
       "<div>\n",
       "<style scoped>\n",
       "    .dataframe tbody tr th:only-of-type {\n",
       "        vertical-align: middle;\n",
       "    }\n",
       "\n",
       "    .dataframe tbody tr th {\n",
       "        vertical-align: top;\n",
       "    }\n",
       "\n",
       "    .dataframe thead th {\n",
       "        text-align: right;\n",
       "    }\n",
       "</style>\n",
       "<table border=\"1\" class=\"dataframe\">\n",
       "  <thead>\n",
       "    <tr style=\"text-align: right;\">\n",
       "      <th></th>\n",
       "      <th>HAGRID</th>\n",
       "      <th>Kingdom</th>\n",
       "      <th>Phylum</th>\n",
       "      <th>Class</th>\n",
       "      <th>Order</th>\n",
       "      <th>Family</th>\n",
       "      <th>Genus</th>\n",
       "      <th>Species</th>\n",
       "      <th>Common name</th>\n",
       "      <th>Female maturity (days)</th>\n",
       "      <th>...</th>\n",
       "      <th>Source</th>\n",
       "      <th>Specimen origin</th>\n",
       "      <th>Sample size</th>\n",
       "      <th>Data quality</th>\n",
       "      <th>IMR (per yr)</th>\n",
       "      <th>MRDT (yrs)</th>\n",
       "      <th>Metabolic rate (W)</th>\n",
       "      <th>Body mass (g)</th>\n",
       "      <th>Temperature (K)</th>\n",
       "      <th>References</th>\n",
       "    </tr>\n",
       "  </thead>\n",
       "  <tbody>\n",
       "    <tr>\n",
       "      <th>0</th>\n",
       "      <td>3</td>\n",
       "      <td>Animalia</td>\n",
       "      <td>Arthropoda</td>\n",
       "      <td>Branchiopoda</td>\n",
       "      <td>Diplostraca</td>\n",
       "      <td>Daphniidae</td>\n",
       "      <td>Daphnia</td>\n",
       "      <td>pulicaria</td>\n",
       "      <td>Daphnia</td>\n",
       "      <td>NaN</td>\n",
       "      <td>...</td>\n",
       "      <td>NaN</td>\n",
       "      <td>unknown</td>\n",
       "      <td>medium</td>\n",
       "      <td>acceptable</td>\n",
       "      <td>NaN</td>\n",
       "      <td>NaN</td>\n",
       "      <td>NaN</td>\n",
       "      <td>NaN</td>\n",
       "      <td>NaN</td>\n",
       "      <td>1294,1295,1296</td>\n",
       "    </tr>\n",
       "    <tr>\n",
       "      <th>1</th>\n",
       "      <td>5</td>\n",
       "      <td>Animalia</td>\n",
       "      <td>Arthropoda</td>\n",
       "      <td>Insecta</td>\n",
       "      <td>Diptera</td>\n",
       "      <td>Drosophilidae</td>\n",
       "      <td>Drosophila</td>\n",
       "      <td>melanogaster</td>\n",
       "      <td>Fruit fly</td>\n",
       "      <td>7.0</td>\n",
       "      <td>...</td>\n",
       "      <td>NaN</td>\n",
       "      <td>captivity</td>\n",
       "      <td>large</td>\n",
       "      <td>acceptable</td>\n",
       "      <td>0.05</td>\n",
       "      <td>0.04</td>\n",
       "      <td>NaN</td>\n",
       "      <td>NaN</td>\n",
       "      <td>NaN</td>\n",
       "      <td>2,20,32,47,53,68,69,240,241,242,243,274,602,98...</td>\n",
       "    </tr>\n",
       "    <tr>\n",
       "      <th>2</th>\n",
       "      <td>6</td>\n",
       "      <td>Animalia</td>\n",
       "      <td>Arthropoda</td>\n",
       "      <td>Insecta</td>\n",
       "      <td>Hymenoptera</td>\n",
       "      <td>Apidae</td>\n",
       "      <td>Apis</td>\n",
       "      <td>mellifera</td>\n",
       "      <td>Honey bee</td>\n",
       "      <td>NaN</td>\n",
       "      <td>...</td>\n",
       "      <td>812</td>\n",
       "      <td>unknown</td>\n",
       "      <td>medium</td>\n",
       "      <td>acceptable</td>\n",
       "      <td>NaN</td>\n",
       "      <td>NaN</td>\n",
       "      <td>NaN</td>\n",
       "      <td>NaN</td>\n",
       "      <td>NaN</td>\n",
       "      <td>63,407,408,741,805,806,808,812,815,828,830,831...</td>\n",
       "    </tr>\n",
       "    <tr>\n",
       "      <th>3</th>\n",
       "      <td>8</td>\n",
       "      <td>Animalia</td>\n",
       "      <td>Arthropoda</td>\n",
       "      <td>Insecta</td>\n",
       "      <td>Hymenoptera</td>\n",
       "      <td>Formicidae</td>\n",
       "      <td>Cardiocondyla</td>\n",
       "      <td>obscurior</td>\n",
       "      <td>Cardiocondyla obscurior</td>\n",
       "      <td>NaN</td>\n",
       "      <td>...</td>\n",
       "      <td>1293</td>\n",
       "      <td>captivity</td>\n",
       "      <td>medium</td>\n",
       "      <td>acceptable</td>\n",
       "      <td>NaN</td>\n",
       "      <td>NaN</td>\n",
       "      <td>NaN</td>\n",
       "      <td>NaN</td>\n",
       "      <td>NaN</td>\n",
       "      <td>1293</td>\n",
       "    </tr>\n",
       "    <tr>\n",
       "      <th>4</th>\n",
       "      <td>9</td>\n",
       "      <td>Animalia</td>\n",
       "      <td>Arthropoda</td>\n",
       "      <td>Insecta</td>\n",
       "      <td>Hymenoptera</td>\n",
       "      <td>Formicidae</td>\n",
       "      <td>Lasius</td>\n",
       "      <td>niger</td>\n",
       "      <td>Black garden ant</td>\n",
       "      <td>NaN</td>\n",
       "      <td>...</td>\n",
       "      <td>411</td>\n",
       "      <td>unknown</td>\n",
       "      <td>medium</td>\n",
       "      <td>acceptable</td>\n",
       "      <td>NaN</td>\n",
       "      <td>NaN</td>\n",
       "      <td>NaN</td>\n",
       "      <td>NaN</td>\n",
       "      <td>NaN</td>\n",
       "      <td>411,813,814</td>\n",
       "    </tr>\n",
       "  </tbody>\n",
       "</table>\n",
       "<p>5 rows × 31 columns</p>\n",
       "</div>"
      ],
      "text/plain": [
       "   HAGRID   Kingdom      Phylum         Class        Order         Family  \\\n",
       "0       3  Animalia  Arthropoda  Branchiopoda  Diplostraca     Daphniidae   \n",
       "1       5  Animalia  Arthropoda       Insecta      Diptera  Drosophilidae   \n",
       "2       6  Animalia  Arthropoda       Insecta  Hymenoptera         Apidae   \n",
       "3       8  Animalia  Arthropoda       Insecta  Hymenoptera     Formicidae   \n",
       "4       9  Animalia  Arthropoda       Insecta  Hymenoptera     Formicidae   \n",
       "\n",
       "           Genus       Species              Common name  \\\n",
       "0        Daphnia     pulicaria                  Daphnia   \n",
       "1     Drosophila  melanogaster                Fruit fly   \n",
       "2           Apis     mellifera                Honey bee   \n",
       "3  Cardiocondyla     obscurior  Cardiocondyla obscurior   \n",
       "4         Lasius         niger         Black garden ant   \n",
       "\n",
       "   Female maturity (days)                        ...                          \\\n",
       "0                     NaN                        ...                           \n",
       "1                     7.0                        ...                           \n",
       "2                     NaN                        ...                           \n",
       "3                     NaN                        ...                           \n",
       "4                     NaN                        ...                           \n",
       "\n",
       "   Source  Specimen origin  Sample size  Data quality  IMR (per yr)  \\\n",
       "0     NaN          unknown       medium    acceptable           NaN   \n",
       "1     NaN        captivity        large    acceptable          0.05   \n",
       "2     812          unknown       medium    acceptable           NaN   \n",
       "3    1293        captivity       medium    acceptable           NaN   \n",
       "4     411          unknown       medium    acceptable           NaN   \n",
       "\n",
       "   MRDT (yrs)  Metabolic rate (W)  Body mass (g)  Temperature (K)  \\\n",
       "0         NaN                 NaN            NaN              NaN   \n",
       "1        0.04                 NaN            NaN              NaN   \n",
       "2         NaN                 NaN            NaN              NaN   \n",
       "3         NaN                 NaN            NaN              NaN   \n",
       "4         NaN                 NaN            NaN              NaN   \n",
       "\n",
       "                                          References  \n",
       "0                                     1294,1295,1296  \n",
       "1  2,20,32,47,53,68,69,240,241,242,243,274,602,98...  \n",
       "2  63,407,408,741,805,806,808,812,815,828,830,831...  \n",
       "3                                               1293  \n",
       "4                                        411,813,814  \n",
       "\n",
       "[5 rows x 31 columns]"
      ]
     },
     "execution_count": 3,
     "metadata": {},
     "output_type": "execute_result"
    }
   ],
   "source": [
    "df.head()"
   ]
  },
  {
   "cell_type": "code",
   "execution_count": 4,
   "metadata": {},
   "outputs": [
    {
     "data": {
      "text/plain": [
       "(4219, 31)"
      ]
     },
     "execution_count": 4,
     "metadata": {},
     "output_type": "execute_result"
    }
   ],
   "source": [
    "df.shape"
   ]
  },
  {
   "cell_type": "markdown",
   "metadata": {},
   "source": [
    "There is a lot of spaces in the columns names so lets try  to clean the names of columns and put into a dictionary."
   ]
  },
  {
   "cell_type": "code",
   "execution_count": 5,
   "metadata": {},
   "outputs": [],
   "source": [
    "d1={'HAGRID':'Hagrid', 'Common name':'Common_name', 'Female maturity (days)':'Female_maturity_days',\n",
    "       'Male maturity (days)':'Male_maturity_days', 'Gestation/Incubation (days)':'Gestation_Incubation_days',\n",
    "       'Weaning (days)':'Weaning_days',\n",
    "       'Litter/Clutch size':'Litter_Clutch_size', 'Litters/Clutches per year':'Litters_Clutches_per_year',\n",
    "       'Inter-litter/Interbirth interval':'Inter_litter_Interbirth_interval', 'Birth weight (g)':'Birth_weight_g',\n",
    "       'Weaning weight (g)':'Weaning_weight_g', 'Adult weight (g)':'Adult_weight_g', 'Growth rate (1/days)':'Growth_rate_1_days_',\n",
    "       'Maximum longevity (yrs)':'Maximum_longevity_yrs', 'Specimen origin':'Specimen_origin', 'Sample size':'Sample_size',\n",
    "       'Data quality':'Data_quality', 'IMR (per yr)':'IMR_per_yr', 'MRDT (yrs)':'MRDT_yrs', 'Metabolic rate (W)':'Metabolic_rate_W',\n",
    "       'Body mass (g)':'Body_mass_g', 'Temperature (K)':'Temperature_K'}"
   ]
  },
  {
   "cell_type": "code",
   "execution_count": 6,
   "metadata": {},
   "outputs": [],
   "source": [
    "df.rename(columns=d1,inplace=True) # change the column names"
   ]
  },
  {
   "cell_type": "markdown",
   "metadata": {},
   "source": [
    "To keep things simple and intersting we will concentrate on Mammals only."
   ]
  },
  {
   "cell_type": "code",
   "execution_count": 91,
   "metadata": {},
   "outputs": [],
   "source": [
    "mam=df.loc[df.Class=='Mammalia'] # Extract the mammals out of data"
   ]
  },
  {
   "cell_type": "code",
   "execution_count": 92,
   "metadata": {},
   "outputs": [
    {
     "data": {
      "text/html": [
       "<div>\n",
       "<style scoped>\n",
       "    .dataframe tbody tr th:only-of-type {\n",
       "        vertical-align: middle;\n",
       "    }\n",
       "\n",
       "    .dataframe tbody tr th {\n",
       "        vertical-align: top;\n",
       "    }\n",
       "\n",
       "    .dataframe thead th {\n",
       "        text-align: right;\n",
       "    }\n",
       "</style>\n",
       "<table border=\"1\" class=\"dataframe\">\n",
       "  <thead>\n",
       "    <tr style=\"text-align: right;\">\n",
       "      <th></th>\n",
       "      <th>Hagrid</th>\n",
       "      <th>Kingdom</th>\n",
       "      <th>Phylum</th>\n",
       "      <th>Class</th>\n",
       "      <th>Order</th>\n",
       "      <th>Family</th>\n",
       "      <th>Genus</th>\n",
       "      <th>Species</th>\n",
       "      <th>Common_name</th>\n",
       "      <th>Female_maturity_days</th>\n",
       "      <th>...</th>\n",
       "      <th>Source</th>\n",
       "      <th>Specimen_origin</th>\n",
       "      <th>Sample_size</th>\n",
       "      <th>Data_quality</th>\n",
       "      <th>IMR_per_yr</th>\n",
       "      <th>MRDT_yrs</th>\n",
       "      <th>Metabolic_rate_W</th>\n",
       "      <th>Body_mass_g</th>\n",
       "      <th>Temperature_K</th>\n",
       "      <th>References</th>\n",
       "    </tr>\n",
       "  </thead>\n",
       "  <tbody>\n",
       "    <tr>\n",
       "      <th>1530</th>\n",
       "      <td>1542</td>\n",
       "      <td>Animalia</td>\n",
       "      <td>Chordata</td>\n",
       "      <td>Mammalia</td>\n",
       "      <td>Afrosoricida</td>\n",
       "      <td>Tenrecidae</td>\n",
       "      <td>Echinops</td>\n",
       "      <td>telfairi</td>\n",
       "      <td>Lesser hedgehog tenrec</td>\n",
       "      <td>365.0</td>\n",
       "      <td>...</td>\n",
       "      <td>671</td>\n",
       "      <td>captivity</td>\n",
       "      <td>medium</td>\n",
       "      <td>acceptable</td>\n",
       "      <td>NaN</td>\n",
       "      <td>NaN</td>\n",
       "      <td>0.750</td>\n",
       "      <td>116.4</td>\n",
       "      <td>307.85</td>\n",
       "      <td>36,148,434,455,542,610,671,678,680,731,1030,1103</td>\n",
       "    </tr>\n",
       "    <tr>\n",
       "      <th>1531</th>\n",
       "      <td>1543</td>\n",
       "      <td>Animalia</td>\n",
       "      <td>Chordata</td>\n",
       "      <td>Mammalia</td>\n",
       "      <td>Afrosoricida</td>\n",
       "      <td>Tenrecidae</td>\n",
       "      <td>Geogale</td>\n",
       "      <td>aurita</td>\n",
       "      <td>Large-eared tenrec</td>\n",
       "      <td>NaN</td>\n",
       "      <td>...</td>\n",
       "      <td>NaN</td>\n",
       "      <td>unknown</td>\n",
       "      <td>small</td>\n",
       "      <td>low</td>\n",
       "      <td>NaN</td>\n",
       "      <td>NaN</td>\n",
       "      <td>0.043</td>\n",
       "      <td>6.9</td>\n",
       "      <td>303.95</td>\n",
       "      <td>36,420,434,613,678</td>\n",
       "    </tr>\n",
       "    <tr>\n",
       "      <th>1532</th>\n",
       "      <td>1544</td>\n",
       "      <td>Animalia</td>\n",
       "      <td>Chordata</td>\n",
       "      <td>Mammalia</td>\n",
       "      <td>Afrosoricida</td>\n",
       "      <td>Tenrecidae</td>\n",
       "      <td>Hemicentetes</td>\n",
       "      <td>semispinosus</td>\n",
       "      <td>Streaked tenrec</td>\n",
       "      <td>35.0</td>\n",
       "      <td>...</td>\n",
       "      <td>671</td>\n",
       "      <td>captivity</td>\n",
       "      <td>small</td>\n",
       "      <td>questionable</td>\n",
       "      <td>NaN</td>\n",
       "      <td>NaN</td>\n",
       "      <td>0.380</td>\n",
       "      <td>116.4</td>\n",
       "      <td>308.15</td>\n",
       "      <td>36,420,434,436,455,542,610,671,678,680</td>\n",
       "    </tr>\n",
       "    <tr>\n",
       "      <th>1533</th>\n",
       "      <td>1545</td>\n",
       "      <td>Animalia</td>\n",
       "      <td>Chordata</td>\n",
       "      <td>Mammalia</td>\n",
       "      <td>Afrosoricida</td>\n",
       "      <td>Tenrecidae</td>\n",
       "      <td>Microgale</td>\n",
       "      <td>dobsoni</td>\n",
       "      <td>Dobson's shrew tenrec</td>\n",
       "      <td>669.0</td>\n",
       "      <td>...</td>\n",
       "      <td>434</td>\n",
       "      <td>captivity</td>\n",
       "      <td>small</td>\n",
       "      <td>acceptable</td>\n",
       "      <td>NaN</td>\n",
       "      <td>NaN</td>\n",
       "      <td>0.315</td>\n",
       "      <td>44.6</td>\n",
       "      <td>304.05</td>\n",
       "      <td>36,420,434,455,610,678,731</td>\n",
       "    </tr>\n",
       "    <tr>\n",
       "      <th>1534</th>\n",
       "      <td>1546</td>\n",
       "      <td>Animalia</td>\n",
       "      <td>Chordata</td>\n",
       "      <td>Mammalia</td>\n",
       "      <td>Afrosoricida</td>\n",
       "      <td>Tenrecidae</td>\n",
       "      <td>Microgale</td>\n",
       "      <td>talazaci</td>\n",
       "      <td>Talazac's shrew tenrec</td>\n",
       "      <td>639.0</td>\n",
       "      <td>...</td>\n",
       "      <td>434</td>\n",
       "      <td>captivity</td>\n",
       "      <td>small</td>\n",
       "      <td>acceptable</td>\n",
       "      <td>NaN</td>\n",
       "      <td>NaN</td>\n",
       "      <td>0.243</td>\n",
       "      <td>44.0</td>\n",
       "      <td>303.95</td>\n",
       "      <td>36,420,434,455,731</td>\n",
       "    </tr>\n",
       "  </tbody>\n",
       "</table>\n",
       "<p>5 rows × 31 columns</p>\n",
       "</div>"
      ],
      "text/plain": [
       "      Hagrid   Kingdom    Phylum     Class         Order      Family  \\\n",
       "1530    1542  Animalia  Chordata  Mammalia  Afrosoricida  Tenrecidae   \n",
       "1531    1543  Animalia  Chordata  Mammalia  Afrosoricida  Tenrecidae   \n",
       "1532    1544  Animalia  Chordata  Mammalia  Afrosoricida  Tenrecidae   \n",
       "1533    1545  Animalia  Chordata  Mammalia  Afrosoricida  Tenrecidae   \n",
       "1534    1546  Animalia  Chordata  Mammalia  Afrosoricida  Tenrecidae   \n",
       "\n",
       "             Genus       Species             Common_name  \\\n",
       "1530      Echinops      telfairi  Lesser hedgehog tenrec   \n",
       "1531       Geogale        aurita      Large-eared tenrec   \n",
       "1532  Hemicentetes  semispinosus         Streaked tenrec   \n",
       "1533     Microgale       dobsoni   Dobson's shrew tenrec   \n",
       "1534     Microgale      talazaci  Talazac's shrew tenrec   \n",
       "\n",
       "      Female_maturity_days                        ...                         \\\n",
       "1530                 365.0                        ...                          \n",
       "1531                   NaN                        ...                          \n",
       "1532                  35.0                        ...                          \n",
       "1533                 669.0                        ...                          \n",
       "1534                 639.0                        ...                          \n",
       "\n",
       "      Source  Specimen_origin  Sample_size  Data_quality  IMR_per_yr  \\\n",
       "1530     671        captivity       medium    acceptable         NaN   \n",
       "1531     NaN          unknown        small           low         NaN   \n",
       "1532     671        captivity        small  questionable         NaN   \n",
       "1533     434        captivity        small    acceptable         NaN   \n",
       "1534     434        captivity        small    acceptable         NaN   \n",
       "\n",
       "      MRDT_yrs  Metabolic_rate_W  Body_mass_g  Temperature_K  \\\n",
       "1530       NaN             0.750        116.4         307.85   \n",
       "1531       NaN             0.043          6.9         303.95   \n",
       "1532       NaN             0.380        116.4         308.15   \n",
       "1533       NaN             0.315         44.6         304.05   \n",
       "1534       NaN             0.243         44.0         303.95   \n",
       "\n",
       "                                            References  \n",
       "1530  36,148,434,455,542,610,671,678,680,731,1030,1103  \n",
       "1531                                36,420,434,613,678  \n",
       "1532            36,420,434,436,455,542,610,671,678,680  \n",
       "1533                        36,420,434,455,610,678,731  \n",
       "1534                                36,420,434,455,731  \n",
       "\n",
       "[5 rows x 31 columns]"
      ]
     },
     "execution_count": 92,
     "metadata": {},
     "output_type": "execute_result"
    }
   ],
   "source": [
    "mam.head()"
   ]
  },
  {
   "cell_type": "markdown",
   "metadata": {},
   "source": [
    "As these are all animals and Vertibrates, we delete the first three columns."
   ]
  },
  {
   "cell_type": "code",
   "execution_count": 93,
   "metadata": {},
   "outputs": [
    {
     "name": "stderr",
     "output_type": "stream",
     "text": [
      "C:\\Users\\aradh\\Anaconda3\\lib\\site-packages\\pandas\\core\\frame.py:3694: SettingWithCopyWarning: \n",
      "A value is trying to be set on a copy of a slice from a DataFrame\n",
      "\n",
      "See the caveats in the documentation: http://pandas.pydata.org/pandas-docs/stable/indexing.html#indexing-view-versus-copy\n",
      "  errors=errors)\n"
     ]
    }
   ],
   "source": [
    "mam.drop(columns=['Hagrid','Kingdom','Phylum'],inplace=True)"
   ]
  },
  {
   "cell_type": "code",
   "execution_count": 94,
   "metadata": {},
   "outputs": [
    {
     "data": {
      "text/html": [
       "<div>\n",
       "<style scoped>\n",
       "    .dataframe tbody tr th:only-of-type {\n",
       "        vertical-align: middle;\n",
       "    }\n",
       "\n",
       "    .dataframe tbody tr th {\n",
       "        vertical-align: top;\n",
       "    }\n",
       "\n",
       "    .dataframe thead th {\n",
       "        text-align: right;\n",
       "    }\n",
       "</style>\n",
       "<table border=\"1\" class=\"dataframe\">\n",
       "  <thead>\n",
       "    <tr style=\"text-align: right;\">\n",
       "      <th></th>\n",
       "      <th>Class</th>\n",
       "      <th>Order</th>\n",
       "      <th>Family</th>\n",
       "      <th>Genus</th>\n",
       "      <th>Species</th>\n",
       "      <th>Common_name</th>\n",
       "      <th>Female_maturity_days</th>\n",
       "      <th>Male_maturity_days</th>\n",
       "      <th>Gestation_Incubation_days</th>\n",
       "      <th>Weaning_days</th>\n",
       "      <th>...</th>\n",
       "      <th>Source</th>\n",
       "      <th>Specimen_origin</th>\n",
       "      <th>Sample_size</th>\n",
       "      <th>Data_quality</th>\n",
       "      <th>IMR_per_yr</th>\n",
       "      <th>MRDT_yrs</th>\n",
       "      <th>Metabolic_rate_W</th>\n",
       "      <th>Body_mass_g</th>\n",
       "      <th>Temperature_K</th>\n",
       "      <th>References</th>\n",
       "    </tr>\n",
       "  </thead>\n",
       "  <tbody>\n",
       "    <tr>\n",
       "      <th>1530</th>\n",
       "      <td>Mammalia</td>\n",
       "      <td>Afrosoricida</td>\n",
       "      <td>Tenrecidae</td>\n",
       "      <td>Echinops</td>\n",
       "      <td>telfairi</td>\n",
       "      <td>Lesser hedgehog tenrec</td>\n",
       "      <td>365.0</td>\n",
       "      <td>365.0</td>\n",
       "      <td>55.0</td>\n",
       "      <td>29.0</td>\n",
       "      <td>...</td>\n",
       "      <td>671</td>\n",
       "      <td>captivity</td>\n",
       "      <td>medium</td>\n",
       "      <td>acceptable</td>\n",
       "      <td>NaN</td>\n",
       "      <td>NaN</td>\n",
       "      <td>0.750</td>\n",
       "      <td>116.4</td>\n",
       "      <td>307.85</td>\n",
       "      <td>36,148,434,455,542,610,671,678,680,731,1030,1103</td>\n",
       "    </tr>\n",
       "    <tr>\n",
       "      <th>1531</th>\n",
       "      <td>Mammalia</td>\n",
       "      <td>Afrosoricida</td>\n",
       "      <td>Tenrecidae</td>\n",
       "      <td>Geogale</td>\n",
       "      <td>aurita</td>\n",
       "      <td>Large-eared tenrec</td>\n",
       "      <td>NaN</td>\n",
       "      <td>NaN</td>\n",
       "      <td>63.0</td>\n",
       "      <td>37.0</td>\n",
       "      <td>...</td>\n",
       "      <td>NaN</td>\n",
       "      <td>unknown</td>\n",
       "      <td>small</td>\n",
       "      <td>low</td>\n",
       "      <td>NaN</td>\n",
       "      <td>NaN</td>\n",
       "      <td>0.043</td>\n",
       "      <td>6.9</td>\n",
       "      <td>303.95</td>\n",
       "      <td>36,420,434,613,678</td>\n",
       "    </tr>\n",
       "    <tr>\n",
       "      <th>1532</th>\n",
       "      <td>Mammalia</td>\n",
       "      <td>Afrosoricida</td>\n",
       "      <td>Tenrecidae</td>\n",
       "      <td>Hemicentetes</td>\n",
       "      <td>semispinosus</td>\n",
       "      <td>Streaked tenrec</td>\n",
       "      <td>35.0</td>\n",
       "      <td>NaN</td>\n",
       "      <td>59.0</td>\n",
       "      <td>21.0</td>\n",
       "      <td>...</td>\n",
       "      <td>671</td>\n",
       "      <td>captivity</td>\n",
       "      <td>small</td>\n",
       "      <td>questionable</td>\n",
       "      <td>NaN</td>\n",
       "      <td>NaN</td>\n",
       "      <td>0.380</td>\n",
       "      <td>116.4</td>\n",
       "      <td>308.15</td>\n",
       "      <td>36,420,434,436,455,542,610,671,678,680</td>\n",
       "    </tr>\n",
       "    <tr>\n",
       "      <th>1533</th>\n",
       "      <td>Mammalia</td>\n",
       "      <td>Afrosoricida</td>\n",
       "      <td>Tenrecidae</td>\n",
       "      <td>Microgale</td>\n",
       "      <td>dobsoni</td>\n",
       "      <td>Dobson's shrew tenrec</td>\n",
       "      <td>669.0</td>\n",
       "      <td>669.0</td>\n",
       "      <td>61.0</td>\n",
       "      <td>29.0</td>\n",
       "      <td>...</td>\n",
       "      <td>434</td>\n",
       "      <td>captivity</td>\n",
       "      <td>small</td>\n",
       "      <td>acceptable</td>\n",
       "      <td>NaN</td>\n",
       "      <td>NaN</td>\n",
       "      <td>0.315</td>\n",
       "      <td>44.6</td>\n",
       "      <td>304.05</td>\n",
       "      <td>36,420,434,455,610,678,731</td>\n",
       "    </tr>\n",
       "    <tr>\n",
       "      <th>1534</th>\n",
       "      <td>Mammalia</td>\n",
       "      <td>Afrosoricida</td>\n",
       "      <td>Tenrecidae</td>\n",
       "      <td>Microgale</td>\n",
       "      <td>talazaci</td>\n",
       "      <td>Talazac's shrew tenrec</td>\n",
       "      <td>639.0</td>\n",
       "      <td>639.0</td>\n",
       "      <td>61.0</td>\n",
       "      <td>29.0</td>\n",
       "      <td>...</td>\n",
       "      <td>434</td>\n",
       "      <td>captivity</td>\n",
       "      <td>small</td>\n",
       "      <td>acceptable</td>\n",
       "      <td>NaN</td>\n",
       "      <td>NaN</td>\n",
       "      <td>0.243</td>\n",
       "      <td>44.0</td>\n",
       "      <td>303.95</td>\n",
       "      <td>36,420,434,455,731</td>\n",
       "    </tr>\n",
       "  </tbody>\n",
       "</table>\n",
       "<p>5 rows × 28 columns</p>\n",
       "</div>"
      ],
      "text/plain": [
       "         Class         Order      Family         Genus       Species  \\\n",
       "1530  Mammalia  Afrosoricida  Tenrecidae      Echinops      telfairi   \n",
       "1531  Mammalia  Afrosoricida  Tenrecidae       Geogale        aurita   \n",
       "1532  Mammalia  Afrosoricida  Tenrecidae  Hemicentetes  semispinosus   \n",
       "1533  Mammalia  Afrosoricida  Tenrecidae     Microgale       dobsoni   \n",
       "1534  Mammalia  Afrosoricida  Tenrecidae     Microgale      talazaci   \n",
       "\n",
       "                 Common_name  Female_maturity_days  Male_maturity_days  \\\n",
       "1530  Lesser hedgehog tenrec                 365.0               365.0   \n",
       "1531      Large-eared tenrec                   NaN                 NaN   \n",
       "1532         Streaked tenrec                  35.0                 NaN   \n",
       "1533   Dobson's shrew tenrec                 669.0               669.0   \n",
       "1534  Talazac's shrew tenrec                 639.0               639.0   \n",
       "\n",
       "      Gestation_Incubation_days  Weaning_days  \\\n",
       "1530                       55.0          29.0   \n",
       "1531                       63.0          37.0   \n",
       "1532                       59.0          21.0   \n",
       "1533                       61.0          29.0   \n",
       "1534                       61.0          29.0   \n",
       "\n",
       "                            ...                         Source  \\\n",
       "1530                        ...                            671   \n",
       "1531                        ...                            NaN   \n",
       "1532                        ...                            671   \n",
       "1533                        ...                            434   \n",
       "1534                        ...                            434   \n",
       "\n",
       "      Specimen_origin  Sample_size  Data_quality  IMR_per_yr  MRDT_yrs  \\\n",
       "1530        captivity       medium    acceptable         NaN       NaN   \n",
       "1531          unknown        small           low         NaN       NaN   \n",
       "1532        captivity        small  questionable         NaN       NaN   \n",
       "1533        captivity        small    acceptable         NaN       NaN   \n",
       "1534        captivity        small    acceptable         NaN       NaN   \n",
       "\n",
       "      Metabolic_rate_W  Body_mass_g Temperature_K  \\\n",
       "1530             0.750        116.4        307.85   \n",
       "1531             0.043          6.9        303.95   \n",
       "1532             0.380        116.4        308.15   \n",
       "1533             0.315         44.6        304.05   \n",
       "1534             0.243         44.0        303.95   \n",
       "\n",
       "                                            References  \n",
       "1530  36,148,434,455,542,610,671,678,680,731,1030,1103  \n",
       "1531                                36,420,434,613,678  \n",
       "1532            36,420,434,436,455,542,610,671,678,680  \n",
       "1533                        36,420,434,455,610,678,731  \n",
       "1534                                36,420,434,455,731  \n",
       "\n",
       "[5 rows x 28 columns]"
      ]
     },
     "execution_count": 94,
     "metadata": {},
     "output_type": "execute_result"
    }
   ],
   "source": [
    "mam.head()"
   ]
  },
  {
   "cell_type": "markdown",
   "metadata": {},
   "source": [
    "Let's explore 'Order', this is what we remove later and try to predict."
   ]
  },
  {
   "cell_type": "code",
   "execution_count": 95,
   "metadata": {},
   "outputs": [
    {
     "data": {
      "text/plain": [
       "Rodentia           358\n",
       "Carnivora          205\n",
       "Primates           174\n",
       "Artiodactyla       172\n",
       "Chiroptera          96\n",
       "Diprotodontia       72\n",
       "Cetacea             45\n",
       "Dasyuromorphia      38\n",
       "Soricomorpha        33\n",
       "Didelphimorphia     20\n",
       "Name: Order, dtype: int64"
      ]
     },
     "execution_count": 95,
     "metadata": {},
     "output_type": "execute_result"
    }
   ],
   "source": [
    "mam.Order.value_counts().head(10)"
   ]
  },
  {
   "cell_type": "markdown",
   "metadata": {},
   "source": [
    "Apart from few not many other seem to be well known. let's see few of them."
   ]
  },
  {
   "cell_type": "code",
   "execution_count": 4,
   "metadata": {},
   "outputs": [],
   "source": [
    "from IPython.display import Image"
   ]
  },
  {
   "cell_type": "markdown",
   "metadata": {},
   "source": [
    "![title](https://github.com/Rohit-Mishra04/AnimalData/blob/master/animal%20images/290px-Rodent_collage.jpg?raw=true)"
   ]
  },
  {
   "cell_type": "markdown",
   "metadata": {},
   "source": [
    "                                                            Rodentia\n"
   ]
  },
  {
   "cell_type": "markdown",
   "metadata": {},
   "source": [
    "![](https://github.com/Rohit-Mishra04/AnimalData/blob/master/animal%20images/The_Cetacea.jpg\n",
    "a.jpg?raw=true)"
   ]
  },
  {
   "cell_type": "code",
   "execution_count": 7,
   "metadata": {},
   "outputs": [],
   "source": [
    "#Image(filename=('C:\\\\python\\\\animal images\\\\The_Cetacea.jpg'),height=400,width=300)"
   ]
  },
  {
   "cell_type": "markdown",
   "metadata": {},
   "source": [
    "![](https://github.com/Rohit-Mishra04/AnimalData/blob/master/animal%20images/The_Artiodactyla.jpg?raw=true)"
   ]
  },
  {
   "cell_type": "markdown",
   "metadata": {},
   "source": [
    "                                                  Artiodactyla"
   ]
  },
  {
   "cell_type": "markdown",
   "metadata": {},
   "source": [
    "![](https://github.com/Rohit-Mishra04/AnimalData/blob/master/animal%20images/The_Cetacea.jpg?raw=true)"
   ]
  },
  {
   "cell_type": "markdown",
   "metadata": {},
   "source": [
    "                                                    The_Cetacea"
   ]
  },
  {
   "cell_type": "markdown",
   "metadata": {},
   "source": [
    "![](https://github.com/Rohit-Mishra04/AnimalData/blob/master/animal%20images/102816_ew_meetingbrief_free.jpg?raw=true)"
   ]
  },
  {
   "cell_type": "markdown",
   "metadata": {},
   "source": [
    "                                                Primates"
   ]
  },
  {
   "cell_type": "code",
   "execution_count": 96,
   "metadata": {},
   "outputs": [
    {
     "data": {
      "text/plain": [
       "<BarContainer object of 28 artists>"
      ]
     },
     "execution_count": 96,
     "metadata": {},
     "output_type": "execute_result"
    },
    {
     "data": {
      "image/png": "[encoded data removed]",
      "text/plain": [
       "<Figure size 1440x576 with 1 Axes>"
      ]
     },
     "metadata": {},
     "output_type": "display_data"
    }
   ],
   "source": [
    "#Distribution of differnt 'Order'\n",
    "plt.figure(figsize=(20,8))\n",
    "plt.barh(mam.Order.value_counts().index,mam.Order.value_counts())"
   ]
  },
  {
   "cell_type": "markdown",
   "metadata": {},
   "source": [
    "A small detour, to study humans !!! It would be intresting to see apart from intelligence is there anything else that is unique in humans. We compare humans with other 'Great Apes'"
   ]
  },
  {
   "cell_type": "code",
   "execution_count": 45,
   "metadata": {},
   "outputs": [],
   "source": [
    "apes=mam.loc[mam.Family=='Hominidae']"
   ]
  },
  {
   "cell_type": "code",
   "execution_count": 59,
   "metadata": {},
   "outputs": [
    {
     "data": {
      "text/html": [
       "<div>\n",
       "<style scoped>\n",
       "    .dataframe tbody tr th:only-of-type {\n",
       "        vertical-align: middle;\n",
       "    }\n",
       "\n",
       "    .dataframe tbody tr th {\n",
       "        vertical-align: top;\n",
       "    }\n",
       "\n",
       "    .dataframe thead th {\n",
       "        text-align: right;\n",
       "    }\n",
       "</style>\n",
       "<table border=\"1\" class=\"dataframe\">\n",
       "  <thead>\n",
       "    <tr style=\"text-align: right;\">\n",
       "      <th></th>\n",
       "      <th>Class</th>\n",
       "      <th>Order</th>\n",
       "      <th>Family</th>\n",
       "      <th>Genus</th>\n",
       "      <th>Species</th>\n",
       "      <th>Common_name</th>\n",
       "      <th>Female_maturity_days</th>\n",
       "      <th>Male_maturity_days</th>\n",
       "      <th>Gestation_Incubation_days</th>\n",
       "      <th>Weaning_days</th>\n",
       "      <th>...</th>\n",
       "      <th>Source</th>\n",
       "      <th>Specimen_origin</th>\n",
       "      <th>Sample_size</th>\n",
       "      <th>Data_quality</th>\n",
       "      <th>IMR_per_yr</th>\n",
       "      <th>MRDT_yrs</th>\n",
       "      <th>Metabolic_rate_W</th>\n",
       "      <th>Body_mass_g</th>\n",
       "      <th>Temperature_K</th>\n",
       "      <th>References</th>\n",
       "    </tr>\n",
       "  </thead>\n",
       "  <tbody>\n",
       "    <tr>\n",
       "      <th>2406</th>\n",
       "      <td>Mammalia</td>\n",
       "      <td>Primates</td>\n",
       "      <td>Hominidae</td>\n",
       "      <td>Gorilla</td>\n",
       "      <td>gorilla</td>\n",
       "      <td>Gorilla</td>\n",
       "      <td>2829.0</td>\n",
       "      <td>4015.0</td>\n",
       "      <td>256.0</td>\n",
       "      <td>834.0</td>\n",
       "      <td>...</td>\n",
       "      <td>1151</td>\n",
       "      <td>captivity</td>\n",
       "      <td>large</td>\n",
       "      <td>acceptable</td>\n",
       "      <td>NaN</td>\n",
       "      <td>NaN</td>\n",
       "      <td>NaN</td>\n",
       "      <td>NaN</td>\n",
       "      <td>308.65</td>\n",
       "      <td>59,341,342,434,436,455,467,610,671,679,680,681...</td>\n",
       "    </tr>\n",
       "    <tr>\n",
       "      <th>2407</th>\n",
       "      <td>Mammalia</td>\n",
       "      <td>Primates</td>\n",
       "      <td>Hominidae</td>\n",
       "      <td>Homo</td>\n",
       "      <td>sapiens</td>\n",
       "      <td>Human</td>\n",
       "      <td>4745.0</td>\n",
       "      <td>5110.0</td>\n",
       "      <td>280.0</td>\n",
       "      <td>639.0</td>\n",
       "      <td>...</td>\n",
       "      <td>29</td>\n",
       "      <td>captivity</td>\n",
       "      <td>huge</td>\n",
       "      <td>high</td>\n",
       "      <td>0.0002</td>\n",
       "      <td>8.0</td>\n",
       "      <td>82.78</td>\n",
       "      <td>70000.0</td>\n",
       "      <td>310.15</td>\n",
       "      <td>2,13,14,29,30,31,36,58,59,65,75,76,110,111,121...</td>\n",
       "    </tr>\n",
       "    <tr>\n",
       "      <th>2408</th>\n",
       "      <td>Mammalia</td>\n",
       "      <td>Primates</td>\n",
       "      <td>Hominidae</td>\n",
       "      <td>Pan</td>\n",
       "      <td>paniscus</td>\n",
       "      <td>Pygmy chimpanzee or bonobo</td>\n",
       "      <td>3194.0</td>\n",
       "      <td>NaN</td>\n",
       "      <td>232.0</td>\n",
       "      <td>635.0</td>\n",
       "      <td>...</td>\n",
       "      <td>671</td>\n",
       "      <td>captivity</td>\n",
       "      <td>tiny</td>\n",
       "      <td>acceptable</td>\n",
       "      <td>NaN</td>\n",
       "      <td>NaN</td>\n",
       "      <td>NaN</td>\n",
       "      <td>NaN</td>\n",
       "      <td>NaN</td>\n",
       "      <td>108,256,323,324,434,436,455,463,467,569,590,67...</td>\n",
       "    </tr>\n",
       "    <tr>\n",
       "      <th>2409</th>\n",
       "      <td>Mammalia</td>\n",
       "      <td>Primates</td>\n",
       "      <td>Hominidae</td>\n",
       "      <td>Pan</td>\n",
       "      <td>troglodytes</td>\n",
       "      <td>Chimpanzee</td>\n",
       "      <td>3376.0</td>\n",
       "      <td>2920.0</td>\n",
       "      <td>229.0</td>\n",
       "      <td>1111.0</td>\n",
       "      <td>...</td>\n",
       "      <td>671</td>\n",
       "      <td>captivity</td>\n",
       "      <td>large</td>\n",
       "      <td>acceptable</td>\n",
       "      <td>0.0400</td>\n",
       "      <td>8.0</td>\n",
       "      <td>NaN</td>\n",
       "      <td>NaN</td>\n",
       "      <td>308.85</td>\n",
       "      <td>8,59,72,73,234,235,236,237,238,239,256,323,434...</td>\n",
       "    </tr>\n",
       "    <tr>\n",
       "      <th>2410</th>\n",
       "      <td>Mammalia</td>\n",
       "      <td>Primates</td>\n",
       "      <td>Hominidae</td>\n",
       "      <td>Pongo</td>\n",
       "      <td>pygmaeus</td>\n",
       "      <td>Orangutan</td>\n",
       "      <td>2555.0</td>\n",
       "      <td>2555.0</td>\n",
       "      <td>249.0</td>\n",
       "      <td>1003.0</td>\n",
       "      <td>...</td>\n",
       "      <td>671</td>\n",
       "      <td>captivity</td>\n",
       "      <td>large</td>\n",
       "      <td>acceptable</td>\n",
       "      <td>NaN</td>\n",
       "      <td>NaN</td>\n",
       "      <td>NaN</td>\n",
       "      <td>NaN</td>\n",
       "      <td>NaN</td>\n",
       "      <td>59,75,108,164,214,215,434,436,455,467,610,671,...</td>\n",
       "    </tr>\n",
       "  </tbody>\n",
       "</table>\n",
       "<p>5 rows × 28 columns</p>\n",
       "</div>"
      ],
      "text/plain": [
       "         Class     Order     Family    Genus      Species  \\\n",
       "2406  Mammalia  Primates  Hominidae  Gorilla      gorilla   \n",
       "2407  Mammalia  Primates  Hominidae     Homo      sapiens   \n",
       "2408  Mammalia  Primates  Hominidae      Pan     paniscus   \n",
       "2409  Mammalia  Primates  Hominidae      Pan  troglodytes   \n",
       "2410  Mammalia  Primates  Hominidae    Pongo     pygmaeus   \n",
       "\n",
       "                     Common_name  Female_maturity_days  Male_maturity_days  \\\n",
       "2406                     Gorilla                2829.0              4015.0   \n",
       "2407                       Human                4745.0              5110.0   \n",
       "2408  Pygmy chimpanzee or bonobo                3194.0                 NaN   \n",
       "2409                  Chimpanzee                3376.0              2920.0   \n",
       "2410                   Orangutan                2555.0              2555.0   \n",
       "\n",
       "      Gestation_Incubation_days  Weaning_days  \\\n",
       "2406                      256.0         834.0   \n",
       "2407                      280.0         639.0   \n",
       "2408                      232.0         635.0   \n",
       "2409                      229.0        1111.0   \n",
       "2410                      249.0        1003.0   \n",
       "\n",
       "                            ...                          Source  \\\n",
       "2406                        ...                            1151   \n",
       "2407                        ...                              29   \n",
       "2408                        ...                             671   \n",
       "2409                        ...                             671   \n",
       "2410                        ...                             671   \n",
       "\n",
       "      Specimen_origin  Sample_size  Data_quality  IMR_per_yr  MRDT_yrs  \\\n",
       "2406        captivity        large    acceptable         NaN       NaN   \n",
       "2407        captivity         huge          high      0.0002       8.0   \n",
       "2408        captivity         tiny    acceptable         NaN       NaN   \n",
       "2409        captivity        large    acceptable      0.0400       8.0   \n",
       "2410        captivity        large    acceptable         NaN       NaN   \n",
       "\n",
       "      Metabolic_rate_W  Body_mass_g Temperature_K  \\\n",
       "2406               NaN          NaN        308.65   \n",
       "2407             82.78      70000.0        310.15   \n",
       "2408               NaN          NaN           NaN   \n",
       "2409               NaN          NaN        308.85   \n",
       "2410               NaN          NaN           NaN   \n",
       "\n",
       "                                             References  \n",
       "2406  59,341,342,434,436,455,467,610,671,679,680,681...  \n",
       "2407  2,13,14,29,30,31,36,58,59,65,75,76,110,111,121...  \n",
       "2408  108,256,323,324,434,436,455,463,467,569,590,67...  \n",
       "2409  8,59,72,73,234,235,236,237,238,239,256,323,434...  \n",
       "2410  59,75,108,164,214,215,434,436,455,467,610,671,...  \n",
       "\n",
       "[5 rows x 28 columns]"
      ]
     },
     "execution_count": 59,
     "metadata": {},
     "output_type": "execute_result"
    }
   ],
   "source": [
    "apes"
   ]
  },
  {
   "cell_type": "code",
   "execution_count": 57,
   "metadata": {},
   "outputs": [
    {
     "name": "stderr",
     "output_type": "stream",
     "text": [
      "C:\\Users\\aradh\\Anaconda3\\lib\\site-packages\\ipykernel_launcher.py:2: SettingWithCopyWarning: \n",
      "A value is trying to be set on a copy of a slice from a DataFrame\n",
      "\n",
      "See the caveats in the documentation: http://pandas.pydata.org/pandas-docs/stable/indexing.html#indexing-view-versus-copy\n",
      "  \n"
     ]
    }
   ],
   "source": [
    "L2=apes.Common_name\n",
    "L2[2408 ]='bonobo'# change the common name due to visibility\n",
    "\n"
   ]
  },
  {
   "cell_type": "code",
   "execution_count": null,
   "metadata": {},
   "outputs": [],
   "source": []
  },
  {
   "cell_type": "code",
   "execution_count": 69,
   "metadata": {},
   "outputs": [
    {
     "data": {
      "text/plain": [
       "Text(0.5,1,'Birth Weight')"
      ]
     },
     "execution_count": 69,
     "metadata": {},
     "output_type": "execute_result"
    },
    {
     "data": {
      "image/png": "[encoded data removed]",
      "text/plain": [
       "<Figure size 1440x720 with 4 Axes>"
      ]
     },
     "metadata": {},
     "output_type": "display_data"
    }
   ],
   "source": [
    "plt.figure(figsize=(20,10))\n",
    "plt.subplot(221)\n",
    "plt.bar(L2,apes.Adult_weight_g)\n",
    "plt.title('Adult Weight')\n",
    "plt.subplot(222)\n",
    "plt.bar(L2,apes.Female_maturity_days)\n",
    "plt.title('Female maturity days')\n",
    "plt.subplot(223)\n",
    "plt.bar(L2,apes.Maximum_longevity_yrs)\n",
    "plt.title('Maximum Longetivity')\n",
    "plt.subplot(224)\n",
    "plt.bar(L2,apes.Birth_weight_g)\n",
    "plt.title('Birth Weight')"
   ]
  },
  {
   "cell_type": "markdown",
   "metadata": {},
   "source": [
    "Very Interesting observations. Inspite of moderate weight as adult, Humans are born heavier, Take a long time to grow and most strikingly, have a far longer lifespan than other apes.\n",
    "Back to our Mammal Dataframe."
   ]
  },
  {
   "cell_type": "markdown",
   "metadata": {},
   "source": [
    "let us see the describe our mammal dataFrame"
   ]
  },
  {
   "cell_type": "code",
   "execution_count": 70,
   "metadata": {},
   "outputs": [
    {
     "data": {
      "text/html": [
       "<div>\n",
       "<style scoped>\n",
       "    .dataframe tbody tr th:only-of-type {\n",
       "        vertical-align: middle;\n",
       "    }\n",
       "\n",
       "    .dataframe tbody tr th {\n",
       "        vertical-align: top;\n",
       "    }\n",
       "\n",
       "    .dataframe thead th {\n",
       "        text-align: right;\n",
       "    }\n",
       "</style>\n",
       "<table border=\"1\" class=\"dataframe\">\n",
       "  <thead>\n",
       "    <tr style=\"text-align: right;\">\n",
       "      <th></th>\n",
       "      <th>Female_maturity_days</th>\n",
       "      <th>Male_maturity_days</th>\n",
       "      <th>Gestation_Incubation_days</th>\n",
       "      <th>Weaning_days</th>\n",
       "      <th>Litter_Clutch_size</th>\n",
       "      <th>Litters_Clutches_per_year</th>\n",
       "      <th>Inter_litter_Interbirth_interval</th>\n",
       "      <th>Birth_weight_g</th>\n",
       "      <th>Weaning_weight_g</th>\n",
       "      <th>Adult_weight_g</th>\n",
       "      <th>Growth_rate_1_days_</th>\n",
       "      <th>Maximum_longevity_yrs</th>\n",
       "      <th>IMR_per_yr</th>\n",
       "      <th>MRDT_yrs</th>\n",
       "      <th>Metabolic_rate_W</th>\n",
       "      <th>Body_mass_g</th>\n",
       "      <th>Temperature_K</th>\n",
       "    </tr>\n",
       "  </thead>\n",
       "  <tbody>\n",
       "    <tr>\n",
       "      <th>count</th>\n",
       "      <td>860.000000</td>\n",
       "      <td>574.000000</td>\n",
       "      <td>1024.000000</td>\n",
       "      <td>810.000000</td>\n",
       "      <td>1232.000000</td>\n",
       "      <td>813.000000</td>\n",
       "      <td>656.000000</td>\n",
       "      <td>8.490000e+02</td>\n",
       "      <td>4.050000e+02</td>\n",
       "      <td>1.310000e+03</td>\n",
       "      <td>250.000000</td>\n",
       "      <td>1012.000000</td>\n",
       "      <td>15.000000</td>\n",
       "      <td>17.000000</td>\n",
       "      <td>422.000000</td>\n",
       "      <td>4.220000e+02</td>\n",
       "      <td>457.000000</td>\n",
       "    </tr>\n",
       "    <tr>\n",
       "      <th>mean</th>\n",
       "      <td>685.967442</td>\n",
       "      <td>806.604530</td>\n",
       "      <td>121.554688</td>\n",
       "      <td>143.759259</td>\n",
       "      <td>2.539866</td>\n",
       "      <td>1.569459</td>\n",
       "      <td>355.807927</td>\n",
       "      <td>1.656514e+04</td>\n",
       "      <td>5.470319e+04</td>\n",
       "      <td>4.618394e+05</td>\n",
       "      <td>0.027931</td>\n",
       "      <td>19.826581</td>\n",
       "      <td>0.040493</td>\n",
       "      <td>6.447059</td>\n",
       "      <td>16.752974</td>\n",
       "      <td>1.904198e+04</td>\n",
       "      <td>309.730306</td>\n",
       "    </tr>\n",
       "    <tr>\n",
       "      <th>std</th>\n",
       "      <td>772.129778</td>\n",
       "      <td>922.912382</td>\n",
       "      <td>107.963242</td>\n",
       "      <td>165.824986</td>\n",
       "      <td>2.050873</td>\n",
       "      <td>1.204807</td>\n",
       "      <td>274.439414</td>\n",
       "      <td>1.287223e+05</td>\n",
       "      <td>8.462728e+05</td>\n",
       "      <td>5.473929e+06</td>\n",
       "      <td>0.032425</td>\n",
       "      <td>15.551026</td>\n",
       "      <td>0.090328</td>\n",
       "      <td>5.695845</td>\n",
       "      <td>118.526036</td>\n",
       "      <td>1.834545e+05</td>\n",
       "      <td>1.756006</td>\n",
       "    </tr>\n",
       "    <tr>\n",
       "      <th>min</th>\n",
       "      <td>24.000000</td>\n",
       "      <td>36.000000</td>\n",
       "      <td>10.000000</td>\n",
       "      <td>7.000000</td>\n",
       "      <td>1.000000</td>\n",
       "      <td>0.100000</td>\n",
       "      <td>20.000000</td>\n",
       "      <td>4.000000e-03</td>\n",
       "      <td>2.065000e+00</td>\n",
       "      <td>2.100000e+00</td>\n",
       "      <td>0.000300</td>\n",
       "      <td>2.100000</td>\n",
       "      <td>0.000200</td>\n",
       "      <td>0.300000</td>\n",
       "      <td>0.027000</td>\n",
       "      <td>2.400000e+00</td>\n",
       "      <td>303.850000</td>\n",
       "    </tr>\n",
       "    <tr>\n",
       "      <th>25%</th>\n",
       "      <td>243.000000</td>\n",
       "      <td>291.750000</td>\n",
       "      <td>31.000000</td>\n",
       "      <td>36.000000</td>\n",
       "      <td>1.000000</td>\n",
       "      <td>1.000000</td>\n",
       "      <td>181.250000</td>\n",
       "      <td>4.460000e+00</td>\n",
       "      <td>2.170000e+01</td>\n",
       "      <td>1.050000e+02</td>\n",
       "      <td>0.007925</td>\n",
       "      <td>9.375000</td>\n",
       "      <td>0.002000</td>\n",
       "      <td>2.000000</td>\n",
       "      <td>0.333500</td>\n",
       "      <td>4.477500e+01</td>\n",
       "      <td>308.700000</td>\n",
       "    </tr>\n",
       "    <tr>\n",
       "      <th>50%</th>\n",
       "      <td>391.500000</td>\n",
       "      <td>460.000000</td>\n",
       "      <td>76.500000</td>\n",
       "      <td>77.000000</td>\n",
       "      <td>2.000000</td>\n",
       "      <td>1.000000</td>\n",
       "      <td>365.000000</td>\n",
       "      <td>5.550000e+01</td>\n",
       "      <td>2.140000e+02</td>\n",
       "      <td>1.399300e+03</td>\n",
       "      <td>0.017750</td>\n",
       "      <td>17.150000</td>\n",
       "      <td>0.015000</td>\n",
       "      <td>4.000000</td>\n",
       "      <td>0.881500</td>\n",
       "      <td>2.400000e+02</td>\n",
       "      <td>309.850000</td>\n",
       "    </tr>\n",
       "    <tr>\n",
       "      <th>75%</th>\n",
       "      <td>803.750000</td>\n",
       "      <td>914.000000</td>\n",
       "      <td>180.000000</td>\n",
       "      <td>182.750000</td>\n",
       "      <td>3.525000</td>\n",
       "      <td>2.000000</td>\n",
       "      <td>365.000000</td>\n",
       "      <td>7.000000e+02</td>\n",
       "      <td>2.170000e+03</td>\n",
       "      <td>1.157500e+04</td>\n",
       "      <td>0.035850</td>\n",
       "      <td>25.425000</td>\n",
       "      <td>0.030000</td>\n",
       "      <td>8.000000</td>\n",
       "      <td>4.502500</td>\n",
       "      <td>2.360075e+03</td>\n",
       "      <td>311.150000</td>\n",
       "    </tr>\n",
       "    <tr>\n",
       "      <th>max</th>\n",
       "      <td>8212.000000</td>\n",
       "      <td>8212.000000</td>\n",
       "      <td>670.000000</td>\n",
       "      <td>1111.000000</td>\n",
       "      <td>22.200000</td>\n",
       "      <td>10.000000</td>\n",
       "      <td>1825.000000</td>\n",
       "      <td>2.000000e+06</td>\n",
       "      <td>1.700000e+07</td>\n",
       "      <td>1.360000e+08</td>\n",
       "      <td>0.216000</td>\n",
       "      <td>211.000000</td>\n",
       "      <td>0.360000</td>\n",
       "      <td>20.000000</td>\n",
       "      <td>2336.500000</td>\n",
       "      <td>3.672000e+06</td>\n",
       "      <td>313.850000</td>\n",
       "    </tr>\n",
       "  </tbody>\n",
       "</table>\n",
       "</div>"
      ],
      "text/plain": [
       "       Female_maturity_days  Male_maturity_days  Gestation_Incubation_days  \\\n",
       "count            860.000000          574.000000                1024.000000   \n",
       "mean             685.967442          806.604530                 121.554688   \n",
       "std              772.129778          922.912382                 107.963242   \n",
       "min               24.000000           36.000000                  10.000000   \n",
       "25%              243.000000          291.750000                  31.000000   \n",
       "50%              391.500000          460.000000                  76.500000   \n",
       "75%              803.750000          914.000000                 180.000000   \n",
       "max             8212.000000         8212.000000                 670.000000   \n",
       "\n",
       "       Weaning_days  Litter_Clutch_size  Litters_Clutches_per_year  \\\n",
       "count    810.000000         1232.000000                 813.000000   \n",
       "mean     143.759259            2.539866                   1.569459   \n",
       "std      165.824986            2.050873                   1.204807   \n",
       "min        7.000000            1.000000                   0.100000   \n",
       "25%       36.000000            1.000000                   1.000000   \n",
       "50%       77.000000            2.000000                   1.000000   \n",
       "75%      182.750000            3.525000                   2.000000   \n",
       "max     1111.000000           22.200000                  10.000000   \n",
       "\n",
       "       Inter_litter_Interbirth_interval  Birth_weight_g  Weaning_weight_g  \\\n",
       "count                        656.000000    8.490000e+02      4.050000e+02   \n",
       "mean                         355.807927    1.656514e+04      5.470319e+04   \n",
       "std                          274.439414    1.287223e+05      8.462728e+05   \n",
       "min                           20.000000    4.000000e-03      2.065000e+00   \n",
       "25%                          181.250000    4.460000e+00      2.170000e+01   \n",
       "50%                          365.000000    5.550000e+01      2.140000e+02   \n",
       "75%                          365.000000    7.000000e+02      2.170000e+03   \n",
       "max                         1825.000000    2.000000e+06      1.700000e+07   \n",
       "\n",
       "       Adult_weight_g  Growth_rate_1_days_  Maximum_longevity_yrs  IMR_per_yr  \\\n",
       "count    1.310000e+03           250.000000            1012.000000   15.000000   \n",
       "mean     4.618394e+05             0.027931              19.826581    0.040493   \n",
       "std      5.473929e+06             0.032425              15.551026    0.090328   \n",
       "min      2.100000e+00             0.000300               2.100000    0.000200   \n",
       "25%      1.050000e+02             0.007925               9.375000    0.002000   \n",
       "50%      1.399300e+03             0.017750              17.150000    0.015000   \n",
       "75%      1.157500e+04             0.035850              25.425000    0.030000   \n",
       "max      1.360000e+08             0.216000             211.000000    0.360000   \n",
       "\n",
       "        MRDT_yrs  Metabolic_rate_W   Body_mass_g  Temperature_K  \n",
       "count  17.000000        422.000000  4.220000e+02     457.000000  \n",
       "mean    6.447059         16.752974  1.904198e+04     309.730306  \n",
       "std     5.695845        118.526036  1.834545e+05       1.756006  \n",
       "min     0.300000          0.027000  2.400000e+00     303.850000  \n",
       "25%     2.000000          0.333500  4.477500e+01     308.700000  \n",
       "50%     4.000000          0.881500  2.400000e+02     309.850000  \n",
       "75%     8.000000          4.502500  2.360075e+03     311.150000  \n",
       "max    20.000000       2336.500000  3.672000e+06     313.850000  "
      ]
     },
     "execution_count": 70,
     "metadata": {},
     "output_type": "execute_result"
    }
   ],
   "source": [
    "mam.describe()"
   ]
  },
  {
   "cell_type": "code",
   "execution_count": 97,
   "metadata": {},
   "outputs": [],
   "source": [
    "num_col=mam.describe().columns # we extract the numerical columns for future use"
   ]
  },
  {
   "cell_type": "markdown",
   "metadata": {},
   "source": [
    "Let us try to explore missing data status"
   ]
  },
  {
   "cell_type": "code",
   "execution_count": 98,
   "metadata": {},
   "outputs": [
    {
     "data": {
      "text/plain": [
       "Class                                  0\n",
       "Order                                  0\n",
       "Family                                 0\n",
       "Genus                                  0\n",
       "Species                                0\n",
       "Common_name                            0\n",
       "Female_maturity_days                 469\n",
       "Male_maturity_days                   755\n",
       "Gestation_Incubation_days            305\n",
       "Weaning_days                         519\n",
       "Litter_Clutch_size                    97\n",
       "Litters_Clutches_per_year            516\n",
       "Inter_litter_Interbirth_interval     673\n",
       "Birth_weight_g                       480\n",
       "Weaning_weight_g                     924\n",
       "Adult_weight_g                        19\n",
       "Growth_rate_1_days_                 1079\n",
       "Maximum_longevity_yrs                317\n",
       "Source                               319\n",
       "Specimen_origin                        0\n",
       "Sample_size                            0\n",
       "Data_quality                           0\n",
       "IMR_per_yr                          1314\n",
       "MRDT_yrs                            1312\n",
       "Metabolic_rate_W                     907\n",
       "Body_mass_g                          907\n",
       "Temperature_K                        872\n",
       "References                             0\n",
       "dtype: int64"
      ]
     },
     "execution_count": 98,
     "metadata": {},
     "output_type": "execute_result"
    }
   ],
   "source": [
    "mam.isnull().sum()"
   ]
  },
  {
   "cell_type": "code",
   "execution_count": 99,
   "metadata": {},
   "outputs": [
    {
     "data": {
      "text/plain": [
       "Text(0.5,1,'percentage missing data')"
      ]
     },
     "execution_count": 99,
     "metadata": {},
     "output_type": "execute_result"
    },
    {
     "data": {
      "image/png": "[encoded data removed]",
      "text/plain": [
       "<Figure size 1440x720 with 1 Axes>"
      ]
     },
     "metadata": {},
     "output_type": "display_data"
    }
   ],
   "source": [
    "plt.figure(figsize=(20,10))\n",
    "plt.barh(mam.isnull().sum().index,mam.isnull().sum()/len(mam)*100)\n",
    "plt.title('percentage missing data')"
   ]
  },
  {
   "cell_type": "markdown",
   "metadata": {},
   "source": [
    "we see there are some features which have more than 70% data missing and many with more than 25% missing.\n",
    "Let's analyse."
   ]
  },
  {
   "cell_type": "code",
   "execution_count": 80,
   "metadata": {},
   "outputs": [
    {
     "data": {
      "text/html": [
       "<div>\n",
       "<style scoped>\n",
       "    .dataframe tbody tr th:only-of-type {\n",
       "        vertical-align: middle;\n",
       "    }\n",
       "\n",
       "    .dataframe tbody tr th {\n",
       "        vertical-align: top;\n",
       "    }\n",
       "\n",
       "    .dataframe thead th {\n",
       "        text-align: right;\n",
       "    }\n",
       "</style>\n",
       "<table border=\"1\" class=\"dataframe\">\n",
       "  <thead>\n",
       "    <tr style=\"text-align: right;\">\n",
       "      <th></th>\n",
       "      <th>Class</th>\n",
       "      <th>Order</th>\n",
       "      <th>Family</th>\n",
       "      <th>Genus</th>\n",
       "      <th>Species</th>\n",
       "      <th>Common_name</th>\n",
       "      <th>Female_maturity_days</th>\n",
       "      <th>Male_maturity_days</th>\n",
       "      <th>Gestation_Incubation_days</th>\n",
       "      <th>Weaning_days</th>\n",
       "      <th>...</th>\n",
       "      <th>Source</th>\n",
       "      <th>Specimen_origin</th>\n",
       "      <th>Sample_size</th>\n",
       "      <th>Data_quality</th>\n",
       "      <th>IMR_per_yr</th>\n",
       "      <th>MRDT_yrs</th>\n",
       "      <th>Metabolic_rate_W</th>\n",
       "      <th>Body_mass_g</th>\n",
       "      <th>Temperature_K</th>\n",
       "      <th>References</th>\n",
       "    </tr>\n",
       "  </thead>\n",
       "  <tbody>\n",
       "    <tr>\n",
       "      <th>1530</th>\n",
       "      <td>Mammalia</td>\n",
       "      <td>Afrosoricida</td>\n",
       "      <td>Tenrecidae</td>\n",
       "      <td>Echinops</td>\n",
       "      <td>telfairi</td>\n",
       "      <td>Lesser hedgehog tenrec</td>\n",
       "      <td>365.0</td>\n",
       "      <td>365.0</td>\n",
       "      <td>55.0</td>\n",
       "      <td>29.0</td>\n",
       "      <td>...</td>\n",
       "      <td>671</td>\n",
       "      <td>captivity</td>\n",
       "      <td>medium</td>\n",
       "      <td>acceptable</td>\n",
       "      <td>NaN</td>\n",
       "      <td>NaN</td>\n",
       "      <td>0.750</td>\n",
       "      <td>116.4</td>\n",
       "      <td>307.85</td>\n",
       "      <td>36,148,434,455,542,610,671,678,680,731,1030,1103</td>\n",
       "    </tr>\n",
       "    <tr>\n",
       "      <th>1531</th>\n",
       "      <td>Mammalia</td>\n",
       "      <td>Afrosoricida</td>\n",
       "      <td>Tenrecidae</td>\n",
       "      <td>Geogale</td>\n",
       "      <td>aurita</td>\n",
       "      <td>Large-eared tenrec</td>\n",
       "      <td>NaN</td>\n",
       "      <td>NaN</td>\n",
       "      <td>63.0</td>\n",
       "      <td>37.0</td>\n",
       "      <td>...</td>\n",
       "      <td>NaN</td>\n",
       "      <td>unknown</td>\n",
       "      <td>small</td>\n",
       "      <td>low</td>\n",
       "      <td>NaN</td>\n",
       "      <td>NaN</td>\n",
       "      <td>0.043</td>\n",
       "      <td>6.9</td>\n",
       "      <td>303.95</td>\n",
       "      <td>36,420,434,613,678</td>\n",
       "    </tr>\n",
       "    <tr>\n",
       "      <th>1532</th>\n",
       "      <td>Mammalia</td>\n",
       "      <td>Afrosoricida</td>\n",
       "      <td>Tenrecidae</td>\n",
       "      <td>Hemicentetes</td>\n",
       "      <td>semispinosus</td>\n",
       "      <td>Streaked tenrec</td>\n",
       "      <td>35.0</td>\n",
       "      <td>NaN</td>\n",
       "      <td>59.0</td>\n",
       "      <td>21.0</td>\n",
       "      <td>...</td>\n",
       "      <td>671</td>\n",
       "      <td>captivity</td>\n",
       "      <td>small</td>\n",
       "      <td>questionable</td>\n",
       "      <td>NaN</td>\n",
       "      <td>NaN</td>\n",
       "      <td>0.380</td>\n",
       "      <td>116.4</td>\n",
       "      <td>308.15</td>\n",
       "      <td>36,420,434,436,455,542,610,671,678,680</td>\n",
       "    </tr>\n",
       "  </tbody>\n",
       "</table>\n",
       "<p>3 rows × 28 columns</p>\n",
       "</div>"
      ],
      "text/plain": [
       "         Class         Order      Family         Genus       Species  \\\n",
       "1530  Mammalia  Afrosoricida  Tenrecidae      Echinops      telfairi   \n",
       "1531  Mammalia  Afrosoricida  Tenrecidae       Geogale        aurita   \n",
       "1532  Mammalia  Afrosoricida  Tenrecidae  Hemicentetes  semispinosus   \n",
       "\n",
       "                 Common_name  Female_maturity_days  Male_maturity_days  \\\n",
       "1530  Lesser hedgehog tenrec                 365.0               365.0   \n",
       "1531      Large-eared tenrec                   NaN                 NaN   \n",
       "1532         Streaked tenrec                  35.0                 NaN   \n",
       "\n",
       "      Gestation_Incubation_days  Weaning_days  \\\n",
       "1530                       55.0          29.0   \n",
       "1531                       63.0          37.0   \n",
       "1532                       59.0          21.0   \n",
       "\n",
       "                            ...                         Source  \\\n",
       "1530                        ...                            671   \n",
       "1531                        ...                            NaN   \n",
       "1532                        ...                            671   \n",
       "\n",
       "      Specimen_origin  Sample_size  Data_quality  IMR_per_yr  MRDT_yrs  \\\n",
       "1530        captivity       medium    acceptable         NaN       NaN   \n",
       "1531          unknown        small           low         NaN       NaN   \n",
       "1532        captivity        small  questionable         NaN       NaN   \n",
       "\n",
       "      Metabolic_rate_W  Body_mass_g Temperature_K  \\\n",
       "1530             0.750        116.4        307.85   \n",
       "1531             0.043          6.9        303.95   \n",
       "1532             0.380        116.4        308.15   \n",
       "\n",
       "                                            References  \n",
       "1530  36,148,434,455,542,610,671,678,680,731,1030,1103  \n",
       "1531                                36,420,434,613,678  \n",
       "1532            36,420,434,436,455,542,610,671,678,680  \n",
       "\n",
       "[3 rows x 28 columns]"
      ]
     },
     "execution_count": 80,
     "metadata": {},
     "output_type": "execute_result"
    }
   ],
   "source": [
    "mam.head(3)"
   ]
  },
  {
   "cell_type": "markdown",
   "metadata": {},
   "source": [
    "Features like 'Family','Genus','Species' are catogorical values which has been already classified, this might provide clues to model. The purpose of the model is to predict 'Order' based on physical characterstics. So we drop these columns. 'Reference' and 'Common_name' columns too doesn't seem to be meaningfull. "
   ]
  },
  {
   "cell_type": "code",
   "execution_count": 100,
   "metadata": {},
   "outputs": [
    {
     "name": "stderr",
     "output_type": "stream",
     "text": [
      "C:\\Users\\aradh\\Anaconda3\\lib\\site-packages\\pandas\\core\\frame.py:3694: SettingWithCopyWarning: \n",
      "A value is trying to be set on a copy of a slice from a DataFrame\n",
      "\n",
      "See the caveats in the documentation: http://pandas.pydata.org/pandas-docs/stable/indexing.html#indexing-view-versus-copy\n",
      "  errors=errors)\n"
     ]
    }
   ],
   "source": [
    "mam.drop(columns=['Class','Family','Genus','Species','Common_name','References'],inplace=True)"
   ]
  },
  {
   "cell_type": "markdown",
   "metadata": {},
   "source": [
    "'Specimen_origin', 'Sample_size', 'Data_quality'   have Catagorical Value which can have some meaning, we will encode them later. For now we try to limit to numerical data"
   ]
  },
  {
   "cell_type": "code",
   "execution_count": 102,
   "metadata": {},
   "outputs": [
    {
     "name": "stderr",
     "output_type": "stream",
     "text": [
      "C:\\Users\\aradh\\Anaconda3\\lib\\site-packages\\pandas\\core\\frame.py:3694: SettingWithCopyWarning: \n",
      "A value is trying to be set on a copy of a slice from a DataFrame\n",
      "\n",
      "See the caveats in the documentation: http://pandas.pydata.org/pandas-docs/stable/indexing.html#indexing-view-versus-copy\n",
      "  errors=errors)\n"
     ]
    }
   ],
   "source": [
    "mam.drop(columns=['Specimen_origin','Sample_size','Data_quality','Source'],inplace=True)"
   ]
  },
  {
   "cell_type": "code",
   "execution_count": 103,
   "metadata": {},
   "outputs": [
    {
     "data": {
      "text/html": [
       "<div>\n",
       "<style scoped>\n",
       "    .dataframe tbody tr th:only-of-type {\n",
       "        vertical-align: middle;\n",
       "    }\n",
       "\n",
       "    .dataframe tbody tr th {\n",
       "        vertical-align: top;\n",
       "    }\n",
       "\n",
       "    .dataframe thead th {\n",
       "        text-align: right;\n",
       "    }\n",
       "</style>\n",
       "<table border=\"1\" class=\"dataframe\">\n",
       "  <thead>\n",
       "    <tr style=\"text-align: right;\">\n",
       "      <th></th>\n",
       "      <th>Order</th>\n",
       "      <th>Female_maturity_days</th>\n",
       "      <th>Male_maturity_days</th>\n",
       "      <th>Gestation_Incubation_days</th>\n",
       "      <th>Weaning_days</th>\n",
       "      <th>Litter_Clutch_size</th>\n",
       "      <th>Litters_Clutches_per_year</th>\n",
       "      <th>Inter_litter_Interbirth_interval</th>\n",
       "      <th>Birth_weight_g</th>\n",
       "      <th>Weaning_weight_g</th>\n",
       "      <th>Adult_weight_g</th>\n",
       "      <th>Growth_rate_1_days_</th>\n",
       "      <th>Maximum_longevity_yrs</th>\n",
       "      <th>IMR_per_yr</th>\n",
       "      <th>MRDT_yrs</th>\n",
       "      <th>Metabolic_rate_W</th>\n",
       "      <th>Body_mass_g</th>\n",
       "      <th>Temperature_K</th>\n",
       "    </tr>\n",
       "  </thead>\n",
       "  <tbody>\n",
       "    <tr>\n",
       "      <th>1530</th>\n",
       "      <td>Afrosoricida</td>\n",
       "      <td>365.0</td>\n",
       "      <td>365.0</td>\n",
       "      <td>55.0</td>\n",
       "      <td>29.0</td>\n",
       "      <td>6.00</td>\n",
       "      <td>1.0</td>\n",
       "      <td>NaN</td>\n",
       "      <td>7.67</td>\n",
       "      <td>50.0</td>\n",
       "      <td>180.0</td>\n",
       "      <td>0.0301</td>\n",
       "      <td>19.0</td>\n",
       "      <td>NaN</td>\n",
       "      <td>NaN</td>\n",
       "      <td>0.750</td>\n",
       "      <td>116.4</td>\n",
       "      <td>307.85</td>\n",
       "    </tr>\n",
       "    <tr>\n",
       "      <th>1531</th>\n",
       "      <td>Afrosoricida</td>\n",
       "      <td>NaN</td>\n",
       "      <td>NaN</td>\n",
       "      <td>63.0</td>\n",
       "      <td>37.0</td>\n",
       "      <td>3.90</td>\n",
       "      <td>2.0</td>\n",
       "      <td>NaN</td>\n",
       "      <td>0.70</td>\n",
       "      <td>NaN</td>\n",
       "      <td>6.7</td>\n",
       "      <td>NaN</td>\n",
       "      <td>NaN</td>\n",
       "      <td>NaN</td>\n",
       "      <td>NaN</td>\n",
       "      <td>0.043</td>\n",
       "      <td>6.9</td>\n",
       "      <td>303.95</td>\n",
       "    </tr>\n",
       "    <tr>\n",
       "      <th>1532</th>\n",
       "      <td>Afrosoricida</td>\n",
       "      <td>35.0</td>\n",
       "      <td>NaN</td>\n",
       "      <td>59.0</td>\n",
       "      <td>21.0</td>\n",
       "      <td>4.00</td>\n",
       "      <td>2.0</td>\n",
       "      <td>NaN</td>\n",
       "      <td>11.50</td>\n",
       "      <td>NaN</td>\n",
       "      <td>180.0</td>\n",
       "      <td>NaN</td>\n",
       "      <td>2.7</td>\n",
       "      <td>NaN</td>\n",
       "      <td>NaN</td>\n",
       "      <td>0.380</td>\n",
       "      <td>116.4</td>\n",
       "      <td>308.15</td>\n",
       "    </tr>\n",
       "    <tr>\n",
       "      <th>1533</th>\n",
       "      <td>Afrosoricida</td>\n",
       "      <td>669.0</td>\n",
       "      <td>669.0</td>\n",
       "      <td>61.0</td>\n",
       "      <td>29.0</td>\n",
       "      <td>2.67</td>\n",
       "      <td>NaN</td>\n",
       "      <td>NaN</td>\n",
       "      <td>3.95</td>\n",
       "      <td>NaN</td>\n",
       "      <td>37.8</td>\n",
       "      <td>0.0266</td>\n",
       "      <td>5.6</td>\n",
       "      <td>NaN</td>\n",
       "      <td>NaN</td>\n",
       "      <td>0.315</td>\n",
       "      <td>44.6</td>\n",
       "      <td>304.05</td>\n",
       "    </tr>\n",
       "    <tr>\n",
       "      <th>1534</th>\n",
       "      <td>Afrosoricida</td>\n",
       "      <td>639.0</td>\n",
       "      <td>639.0</td>\n",
       "      <td>61.0</td>\n",
       "      <td>29.0</td>\n",
       "      <td>2.00</td>\n",
       "      <td>NaN</td>\n",
       "      <td>NaN</td>\n",
       "      <td>3.60</td>\n",
       "      <td>NaN</td>\n",
       "      <td>50.0</td>\n",
       "      <td>0.0298</td>\n",
       "      <td>5.8</td>\n",
       "      <td>NaN</td>\n",
       "      <td>NaN</td>\n",
       "      <td>0.243</td>\n",
       "      <td>44.0</td>\n",
       "      <td>303.95</td>\n",
       "    </tr>\n",
       "  </tbody>\n",
       "</table>\n",
       "</div>"
      ],
      "text/plain": [
       "             Order  Female_maturity_days  Male_maturity_days  \\\n",
       "1530  Afrosoricida                 365.0               365.0   \n",
       "1531  Afrosoricida                   NaN                 NaN   \n",
       "1532  Afrosoricida                  35.0                 NaN   \n",
       "1533  Afrosoricida                 669.0               669.0   \n",
       "1534  Afrosoricida                 639.0               639.0   \n",
       "\n",
       "      Gestation_Incubation_days  Weaning_days  Litter_Clutch_size  \\\n",
       "1530                       55.0          29.0                6.00   \n",
       "1531                       63.0          37.0                3.90   \n",
       "1532                       59.0          21.0                4.00   \n",
       "1533                       61.0          29.0                2.67   \n",
       "1534                       61.0          29.0                2.00   \n",
       "\n",
       "      Litters_Clutches_per_year  Inter_litter_Interbirth_interval  \\\n",
       "1530                        1.0                               NaN   \n",
       "1531                        2.0                               NaN   \n",
       "1532                        2.0                               NaN   \n",
       "1533                        NaN                               NaN   \n",
       "1534                        NaN                               NaN   \n",
       "\n",
       "      Birth_weight_g  Weaning_weight_g  Adult_weight_g  Growth_rate_1_days_  \\\n",
       "1530            7.67              50.0           180.0               0.0301   \n",
       "1531            0.70               NaN             6.7                  NaN   \n",
       "1532           11.50               NaN           180.0                  NaN   \n",
       "1533            3.95               NaN            37.8               0.0266   \n",
       "1534            3.60               NaN            50.0               0.0298   \n",
       "\n",
       "      Maximum_longevity_yrs  IMR_per_yr  MRDT_yrs  Metabolic_rate_W  \\\n",
       "1530                   19.0         NaN       NaN             0.750   \n",
       "1531                    NaN         NaN       NaN             0.043   \n",
       "1532                    2.7         NaN       NaN             0.380   \n",
       "1533                    5.6         NaN       NaN             0.315   \n",
       "1534                    5.8         NaN       NaN             0.243   \n",
       "\n",
       "      Body_mass_g  Temperature_K  \n",
       "1530        116.4         307.85  \n",
       "1531          6.9         303.95  \n",
       "1532        116.4         308.15  \n",
       "1533         44.6         304.05  \n",
       "1534         44.0         303.95  "
      ]
     },
     "execution_count": 103,
     "metadata": {},
     "output_type": "execute_result"
    }
   ],
   "source": [
    "mam.head()"
   ]
  },
  {
   "cell_type": "code",
   "execution_count": 105,
   "metadata": {},
   "outputs": [
    {
     "data": {
      "text/plain": [
       "Order                                object\n",
       "Female_maturity_days                float64\n",
       "Male_maturity_days                  float64\n",
       "Gestation_Incubation_days           float64\n",
       "Weaning_days                        float64\n",
       "Litter_Clutch_size                  float64\n",
       "Litters_Clutches_per_year           float64\n",
       "Inter_litter_Interbirth_interval    float64\n",
       "Birth_weight_g                      float64\n",
       "Weaning_weight_g                    float64\n",
       "Adult_weight_g                      float64\n",
       "Growth_rate_1_days_                 float64\n",
       "Maximum_longevity_yrs               float64\n",
       "IMR_per_yr                          float64\n",
       "MRDT_yrs                            float64\n",
       "Metabolic_rate_W                    float64\n",
       "Body_mass_g                         float64\n",
       "Temperature_K                       float64\n",
       "dtype: object"
      ]
     },
     "execution_count": 105,
     "metadata": {},
     "output_type": "execute_result"
    }
   ],
   "source": [
    "mam.dtypes"
   ]
  },
  {
   "cell_type": "code",
   "execution_count": 104,
   "metadata": {},
   "outputs": [
    {
     "data": {
      "text/plain": [
       "Order                                0.000000\n",
       "Female_maturity_days                35.289691\n",
       "Male_maturity_days                  56.809631\n",
       "Gestation_Incubation_days           22.949586\n",
       "Weaning_days                        39.051919\n",
       "Litter_Clutch_size                   7.298721\n",
       "Litters_Clutches_per_year           38.826185\n",
       "Inter_litter_Interbirth_interval    50.639579\n",
       "Birth_weight_g                      36.117381\n",
       "Weaning_weight_g                    69.525959\n",
       "Adult_weight_g                       1.429646\n",
       "Growth_rate_1_days_                 81.188864\n",
       "Maximum_longevity_yrs               23.852521\n",
       "IMR_per_yr                          98.871332\n",
       "MRDT_yrs                            98.720843\n",
       "Metabolic_rate_W                    68.246802\n",
       "Body_mass_g                         68.246802\n",
       "Temperature_K                       65.613243\n",
       "dtype: float64"
      ]
     },
     "execution_count": 104,
     "metadata": {},
     "output_type": "execute_result"
    }
   ],
   "source": [
    "# Checking the missing Values proportion now\n",
    "mam.isnull().sum()/len(mam)*100"
   ]
  },
  {
   "cell_type": "markdown",
   "metadata": {},
   "source": [
    "There are features with more than 80% data missing. We drop them now."
   ]
  },
  {
   "cell_type": "code",
   "execution_count": 106,
   "metadata": {},
   "outputs": [
    {
     "name": "stderr",
     "output_type": "stream",
     "text": [
      "C:\\Users\\aradh\\Anaconda3\\lib\\site-packages\\pandas\\core\\frame.py:3694: SettingWithCopyWarning: \n",
      "A value is trying to be set on a copy of a slice from a DataFrame\n",
      "\n",
      "See the caveats in the documentation: http://pandas.pydata.org/pandas-docs/stable/indexing.html#indexing-view-versus-copy\n",
      "  errors=errors)\n"
     ]
    }
   ],
   "source": [
    "mam.drop(columns=['IMR_per_yr','MRDT_yrs','Growth_rate_1_days_'],inplace=True)"
   ]
  },
  {
   "cell_type": "markdown",
   "metadata": {},
   "source": [
    "Let's try  to find correlation between data so that we can drop columns if there is strong correlataion and lot missing data assuming redundancy."
   ]
  },
  {
   "cell_type": "code",
   "execution_count": 111,
   "metadata": {},
   "outputs": [
    {
     "data": {
      "text/plain": [
       "<matplotlib.axes._subplots.AxesSubplot at 0x247fc837ef0>"
      ]
     },
     "execution_count": 111,
     "metadata": {},
     "output_type": "execute_result"
    },
    {
     "data": {
      "image/png": "[encoded data removed]",
      "text/plain": [
       "<Figure size 1440x576 with 2 Axes>"
      ]
     },
     "metadata": {},
     "output_type": "display_data"
    }
   ],
   "source": [
    "plt.figure(figsize=(20,8))\n",
    "sns.heatmap(mam.corr(),annot=True)"
   ]
  },
  {
   "cell_type": "markdown",
   "metadata": {},
   "source": [
    "We see from correlation map,   \n",
    "\n",
    "Male_maturity_days has a very high correlation with Female_maturity_days.  \n",
    "Body_mass_g has a very high correlation with Adult_weight_g .  \n",
    "Weaning_weight_g has a very high correlation with Adult_weight_g .  \n",
    "Metabolic_rate_W has a very high correlation with Adult_weight_g .  \n",
    "Inter_litter_Interbirth_interval has a very high correlation with Female_maturity_days. \n",
    "\n",
    "These columns have large missing values and are strongly correlated to other variables. Thus assuming their information is redundant, I guess it makes sense to delete them.\n",
    "\n",
    "\n"
   ]
  },
  {
   "cell_type": "code",
   "execution_count": 112,
   "metadata": {},
   "outputs": [
    {
     "name": "stderr",
     "output_type": "stream",
     "text": [
      "C:\\Users\\aradh\\Anaconda3\\lib\\site-packages\\pandas\\core\\frame.py:3694: SettingWithCopyWarning: \n",
      "A value is trying to be set on a copy of a slice from a DataFrame\n",
      "\n",
      "See the caveats in the documentation: http://pandas.pydata.org/pandas-docs/stable/indexing.html#indexing-view-versus-copy\n",
      "  errors=errors)\n"
     ]
    }
   ],
   "source": [
    "mam.drop(columns=['Male_maturity_days','Body_mass_g','Weaning_weight_g','Metabolic_rate_W','Inter_litter_Interbirth_interval'],inplace=True)"
   ]
  },
  {
   "cell_type": "code",
   "execution_count": 113,
   "metadata": {},
   "outputs": [
    {
     "data": {
      "text/plain": [
       "Order                          0\n",
       "Female_maturity_days         469\n",
       "Gestation_Incubation_days    305\n",
       "Weaning_days                 519\n",
       "Litter_Clutch_size            97\n",
       "Litters_Clutches_per_year    516\n",
       "Birth_weight_g               480\n",
       "Adult_weight_g                19\n",
       "Maximum_longevity_yrs        317\n",
       "Temperature_K                872\n",
       "dtype: int64"
      ]
     },
     "execution_count": 113,
     "metadata": {},
     "output_type": "execute_result"
    }
   ],
   "source": [
    "mam.isnull().sum()"
   ]
  },
  {
   "cell_type": "markdown",
   "metadata": {},
   "source": [
    "At this point I want to find out a baseline efficiency of our classification model. I will delete the missing rows and try to find a basic model which gives best efficiency. In the next notebook I will impute the missing values and try to train the model with more data, but before that I want to impute Temperature_K with its median as  this still has a huge number of missing value."
   ]
  },
  {
   "cell_type": "code",
   "execution_count": 114,
   "metadata": {},
   "outputs": [
    {
     "name": "stderr",
     "output_type": "stream",
     "text": [
      "C:\\Users\\aradh\\Anaconda3\\lib\\site-packages\\pandas\\core\\generic.py:5430: SettingWithCopyWarning: \n",
      "A value is trying to be set on a copy of a slice from a DataFrame\n",
      "\n",
      "See the caveats in the documentation: http://pandas.pydata.org/pandas-docs/stable/indexing.html#indexing-view-versus-copy\n",
      "  self._update_inplace(new_data)\n"
     ]
    }
   ],
   "source": [
    "mam.Temperature_K.fillna(mam.Temperature_K.median(),inplace=True)"
   ]
  },
  {
   "cell_type": "code",
   "execution_count": 115,
   "metadata": {},
   "outputs": [
    {
     "data": {
      "text/plain": [
       "(1329, 10)"
      ]
     },
     "execution_count": 115,
     "metadata": {},
     "output_type": "execute_result"
    }
   ],
   "source": [
    "mam.shape"
   ]
  },
  {
   "cell_type": "code",
   "execution_count": 116,
   "metadata": {},
   "outputs": [],
   "source": [
    "X=mam.dropna()"
   ]
  },
  {
   "cell_type": "code",
   "execution_count": 117,
   "metadata": {},
   "outputs": [
    {
     "data": {
      "text/plain": [
       "(438, 10)"
      ]
     },
     "execution_count": 117,
     "metadata": {},
     "output_type": "execute_result"
    }
   ],
   "source": [
    "X.shape"
   ]
  },
  {
   "cell_type": "code",
   "execution_count": 121,
   "metadata": {},
   "outputs": [],
   "source": [
    "Y=X.Order #Saving the Labels"
   ]
  },
  {
   "cell_type": "code",
   "execution_count": 123,
   "metadata": {},
   "outputs": [
    {
     "name": "stderr",
     "output_type": "stream",
     "text": [
      "C:\\Users\\aradh\\Anaconda3\\lib\\site-packages\\pandas\\core\\frame.py:3694: SettingWithCopyWarning: \n",
      "A value is trying to be set on a copy of a slice from a DataFrame\n",
      "\n",
      "See the caveats in the documentation: http://pandas.pydata.org/pandas-docs/stable/indexing.html#indexing-view-versus-copy\n",
      "  errors=errors)\n"
     ]
    }
   ],
   "source": [
    "X.drop(columns='Order',inplace=True)"
   ]
  },
  {
   "cell_type": "code",
   "execution_count": 126,
   "metadata": {},
   "outputs": [
    {
     "data": {
      "text/plain": [
       "((438, 9), (438,))"
      ]
     },
     "execution_count": 126,
     "metadata": {},
     "output_type": "execute_result"
    }
   ],
   "source": [
    "X.shape,Y.shape"
   ]
  },
  {
   "cell_type": "code",
   "execution_count": 124,
   "metadata": {},
   "outputs": [],
   "source": [
    "from sklearn.model_selection import train_test_split"
   ]
  },
  {
   "cell_type": "code",
   "execution_count": 125,
   "metadata": {},
   "outputs": [],
   "source": [
    "#importing Classifiers\n",
    "from sklearn.ensemble import RandomForestClassifier\n",
    "from sklearn.tree import DecisionTreeClassifier\n",
    "from sklearn.neural_network import MLPClassifier\n",
    "from sklearn.ensemble import GradientBoostingClassifier"
   ]
  },
  {
   "cell_type": "code",
   "execution_count": 127,
   "metadata": {},
   "outputs": [],
   "source": [
    "x_train,x_test,y_train,y_test=train_test_split(X,Y)"
   ]
  },
  {
   "cell_type": "code",
   "execution_count": 128,
   "metadata": {},
   "outputs": [
    {
     "data": {
      "text/plain": [
       "((328, 9), (110, 9), (328,), (110,))"
      ]
     },
     "execution_count": 128,
     "metadata": {},
     "output_type": "execute_result"
    }
   ],
   "source": [
    "x_train.shape,x_test.shape,y_train.shape,y_test.shape"
   ]
  },
  {
   "cell_type": "markdown",
   "metadata": {},
   "source": [
    "Let's try initially with Tree based models with default parameters"
   ]
  },
  {
   "cell_type": "code",
   "execution_count": 129,
   "metadata": {},
   "outputs": [],
   "source": [
    "model_DT=DecisionTreeClassifier()\n",
    "model_RF=RandomForestClassifier()\n",
    "model_GB=GradientBoostingClassifier()"
   ]
  },
  {
   "cell_type": "code",
   "execution_count": 130,
   "metadata": {},
   "outputs": [],
   "source": [
    "model=[model_DT,model_RF,model_GB]"
   ]
  },
  {
   "cell_type": "code",
   "execution_count": 136,
   "metadata": {},
   "outputs": [],
   "source": [
    "from sklearn.metrics import accuracy_score"
   ]
  },
  {
   "cell_type": "code",
   "execution_count": 140,
   "metadata": {},
   "outputs": [],
   "source": [
    "def accuracy_calculator(x_train,x_test,y_train,y_test,model):\n",
    "    for i in range(len(model)):\n",
    "        model[i].fit(x_train,y_train)\n",
    "        print('model'+str(i)+' training accuracy: '+str(accuracy_score(model[i].predict(x_train),y_train)))\n",
    "        print('model'+str(i)+' test accuracy: '+str(accuracy_score(model[i].predict(x_test),y_test)))"
   ]
  },
  {
   "cell_type": "code",
   "execution_count": 141,
   "metadata": {},
   "outputs": [
    {
     "name": "stdout",
     "output_type": "stream",
     "text": [
      "model0 training accuracy: 1.0\n",
      "model0 test accuracy: 0.6090909090909091\n",
      "model1 training accuracy: 0.9969512195121951\n",
      "model1 test accuracy: 0.7\n",
      "model2 training accuracy: 1.0\n",
      "model2 test accuracy: 0.7545454545454545\n"
     ]
    }
   ],
   "source": [
    "accuracy_calculator(x_train,x_test,y_train,y_test,model)"
   ]
  },
  {
   "cell_type": "markdown",
   "metadata": {},
   "source": [
    "We see all of the models are overfitted, with Gradient Boosting showing minimum of the Variance. This notebook  is more concerned with analysing data than tuning the parametrs. In the next part I will try to analyse each feature and try to fill the missing data and see how the models perform on complete data but now lastly I will try to figure out which features are most important according to the most successfull model."
   ]
  },
  {
   "cell_type": "code",
   "execution_count": 143,
   "metadata": {},
   "outputs": [
    {
     "data": {
      "text/plain": [
       "array([0.07275526, 0.10760488, 0.05211409, 0.0466714 , 0.03873171,\n",
       "       0.09955403, 0.09339546, 0.08761998, 0.0665532 ])"
      ]
     },
     "execution_count": 143,
     "metadata": {},
     "output_type": "execute_result"
    }
   ],
   "source": [
    "model_GB.feature_importances_"
   ]
  },
  {
   "cell_type": "code",
   "execution_count": 144,
   "metadata": {},
   "outputs": [
    {
     "data": {
      "text/plain": [
       "Index(['Female_maturity_days', 'Gestation_Incubation_days', 'Weaning_days',\n",
       "       'Litter_Clutch_size', 'Litters_Clutches_per_year', 'Birth_weight_g',\n",
       "       'Adult_weight_g', 'Maximum_longevity_yrs', 'Temperature_K'],\n",
       "      dtype='object')"
      ]
     },
     "execution_count": 144,
     "metadata": {},
     "output_type": "execute_result"
    }
   ],
   "source": [
    "x_train.columns"
   ]
  },
  {
   "cell_type": "code",
   "execution_count": 153,
   "metadata": {},
   "outputs": [],
   "source": [
    "T1=zip(x_train.columns,model_GB.feature_importances_*100) # combinig columns to relative importance"
   ]
  },
  {
   "cell_type": "code",
   "execution_count": 154,
   "metadata": {},
   "outputs": [
    {
     "data": {
      "text/plain": [
       "[('Female_maturity_days', 7.275526274182447),\n",
       " ('Gestation_Incubation_days', 10.760487544888019),\n",
       " ('Weaning_days', 5.2114092737112845),\n",
       " ('Litter_Clutch_size', 4.6671399473484145),\n",
       " ('Litters_Clutches_per_year', 3.8731711568514564),\n",
       " ('Birth_weight_g', 9.955402509034023),\n",
       " ('Adult_weight_g', 9.339545808323482),\n",
       " ('Maximum_longevity_yrs', 8.76199792821847),\n",
       " ('Temperature_K', 6.655319557442418)]"
      ]
     },
     "execution_count": 154,
     "metadata": {},
     "output_type": "execute_result"
    }
   ],
   "source": [
    "list(T1)"
   ]
  },
  {
   "cell_type": "markdown",
   "metadata": {},
   "source": [
    "Trying with Neural  Networks. We need to standaradise the data."
   ]
  },
  {
   "cell_type": "code",
   "execution_count": 158,
   "metadata": {},
   "outputs": [],
   "source": [
    "from sklearn.preprocessing import StandardScaler"
   ]
  },
  {
   "cell_type": "code",
   "execution_count": 159,
   "metadata": {},
   "outputs": [],
   "source": [
    "st=StandardScaler()"
   ]
  },
  {
   "cell_type": "code",
   "execution_count": 160,
   "metadata": {},
   "outputs": [],
   "source": [
    "x_train_st=st.fit_transform(x_train)"
   ]
  },
  {
   "cell_type": "code",
   "execution_count": 161,
   "metadata": {},
   "outputs": [],
   "source": [
    "x_test_st=st.fit_transform(x_test)"
   ]
  },
  {
   "cell_type": "code",
   "execution_count": 163,
   "metadata": {},
   "outputs": [],
   "source": [
    "model_MLP=MLPClassifier()"
   ]
  },
  {
   "cell_type": "code",
   "execution_count": 164,
   "metadata": {},
   "outputs": [
    {
     "name": "stderr",
     "output_type": "stream",
     "text": [
      "C:\\Users\\aradh\\Anaconda3\\lib\\site-packages\\sklearn\\neural_network\\multilayer_perceptron.py:564: ConvergenceWarning: Stochastic Optimizer: Maximum iterations (200) reached and the optimization hasn't converged yet.\n",
      "  % self.max_iter, ConvergenceWarning)\n"
     ]
    },
    {
     "data": {
      "text/plain": [
       "MLPClassifier(activation='relu', alpha=0.0001, batch_size='auto', beta_1=0.9,\n",
       "       beta_2=0.999, early_stopping=False, epsilon=1e-08,\n",
       "       hidden_layer_sizes=(100,), learning_rate='constant',\n",
       "       learning_rate_init=0.001, max_iter=200, momentum=0.9,\n",
       "       nesterovs_momentum=True, power_t=0.5, random_state=None,\n",
       "       shuffle=True, solver='adam', tol=0.0001, validation_fraction=0.1,\n",
       "       verbose=False, warm_start=False)"
      ]
     },
     "execution_count": 164,
     "metadata": {},
     "output_type": "execute_result"
    }
   ],
   "source": [
    "model_MLP.fit(x_train_st,y_train)"
   ]
  },
  {
   "cell_type": "code",
   "execution_count": 166,
   "metadata": {},
   "outputs": [
    {
     "data": {
      "text/plain": [
       "0.75"
      ]
     },
     "execution_count": 166,
     "metadata": {},
     "output_type": "execute_result"
    }
   ],
   "source": [
    "accuracy_score(model_MLP.predict(x_train_st),y_train)"
   ]
  },
  {
   "cell_type": "code",
   "execution_count": 167,
   "metadata": {},
   "outputs": [
    {
     "data": {
      "text/plain": [
       "0.6090909090909091"
      ]
     },
     "execution_count": 167,
     "metadata": {},
     "output_type": "execute_result"
    }
   ],
   "source": [
    "accuracy_score(model_MLP.predict(x_test_st),y_test)"
   ]
  },
  {
   "cell_type": "code",
   "execution_count": null,
   "metadata": {},
   "outputs": [],
   "source": []
  }
 ],
 "metadata": {
  "kernelspec": {
   "display_name": "Python 3",
   "language": "python",
   "name": "python3"
  },
  "language_info": {
   "codemirror_mode": {
    "name": "ipython",
    "version": 3
   },
   "file_extension": ".py",
   "mimetype": "text/x-python",
   "name": "python",
   "nbconvert_exporter": "python",
   "pygments_lexer": "ipython3",
   "version": "3.6.5"
  }
 },
 "nbformat": 4,
 "nbformat_minor": 2
}
